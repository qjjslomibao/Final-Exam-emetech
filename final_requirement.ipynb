{
  "nbformat": 4,
  "nbformat_minor": 0,
  "metadata": {
    "colab": {
      "provenance": [],
      "gpuType": "T4",
      "include_colab_link": true
    },
    "kernelspec": {
      "name": "python3",
      "display_name": "Python 3"
    },
    "language_info": {
      "name": "python"
    },
    "accelerator": "GPU"
  },
  "cells": [
    {
      "cell_type": "markdown",
      "metadata": {
        "id": "view-in-github",
        "colab_type": "text"
      },
      "source": [
        "<a href=\"https://colab.research.google.com/github/qjjslomibao/Final-Exam-emetech/blob/main/final_requirement.ipynb\" target=\"_parent\"><img src=\"https://colab.research.google.com/assets/colab-badge.svg\" alt=\"Open In Colab\"/></a>"
      ]
    },
    {
      "cell_type": "code",
      "source": [
        "from google.colab import drive\n",
        "drive.mount('/content/drive')"
      ],
      "metadata": {
        "colab": {
          "base_uri": "https://localhost:8080/"
        },
        "id": "pX6YStN6o7ks",
        "outputId": "191cda2c-d089-4fbc-fb8e-396eb98c9f0e"
      },
      "execution_count": 1,
      "outputs": [
        {
          "output_type": "stream",
          "name": "stdout",
          "text": [
            "Mounted at /content/drive\n"
          ]
        }
      ]
    },
    {
      "cell_type": "code",
      "source": [
        "from keras.preprocessing.image import ImageDataGenerator\n",
        "\n",
        "train_datagen = ImageDataGenerator(rescale=1./255, validation_split=0.2)\n",
        "\n",
        "train_generator = train_datagen.flow_from_directory(\n",
        "    '/content/drive/MyDrive/EMTECH 2 FINAL REQUIREMENT DATASET/train',\n",
        "    target_size=(64, 64),\n",
        "    batch_size=32,\n",
        "    class_mode='binary',\n",
        "    subset='training'\n",
        ")\n",
        "\n",
        "validation_generator = train_datagen.flow_from_directory(\n",
        "    '/content/drive/MyDrive/EMTECH 2 FINAL REQUIREMENT DATASET/validation',\n",
        "    target_size=(64, 64),\n",
        "    batch_size=32,\n",
        "    class_mode='binary',\n",
        "    subset='validation'\n",
        ")"
      ],
      "metadata": {
        "colab": {
          "base_uri": "https://localhost:8080/"
        },
        "id": "kjpzqWBHo8Ka",
        "outputId": "b5afee4f-3b8f-467b-ba42-e4529895a6eb"
      },
      "execution_count": 2,
      "outputs": [
        {
          "output_type": "stream",
          "name": "stdout",
          "text": [
            "Found 9683 images belonging to 2 classes.\n",
            "Found 592 images belonging to 2 classes.\n"
          ]
        }
      ]
    },
    {
      "cell_type": "code",
      "source": [
        "from keras.models import Sequential\n",
        "from keras.layers import Conv2D, MaxPooling2D, Flatten, Dense, Dropout, BatchNormalization\n",
        "from keras.callbacks import ModelCheckpoint\n",
        "from keras.metrics import BinaryAccuracy\n",
        "\n",
        "model = Sequential()\n",
        "\n",
        "model.add(Conv2D(32, (3, 3), activation='elu', input_shape=(64, 64, 3)))\n",
        "model.add(MaxPooling2D((2, 2)))\n",
        "model.add(BatchNormalization())\n",
        "\n",
        "model.add(Conv2D(64, (3, 3), activation='elu'))\n",
        "model.add(MaxPooling2D((2, 2)))\n",
        "model.add(BatchNormalization())\n",
        "\n",
        "model.add(Flatten())\n",
        "\n",
        "model.add(Dense(128, activation='elu'))\n",
        "model.add(Dropout(0.5))\n",
        "model.add(Dense(1, activation='sigmoid'))\n",
        "\n",
        "model.compile(optimizer='adam', loss='binary_crossentropy', metrics=[BinaryAccuracy()])\n",
        "\n",
        "checkpoint = ModelCheckpoint('best_model.h5',\n",
        "                              monitor='val_binary_accuracy',\n",
        "                              save_best_only=True,\n",
        "                              mode='max',\n",
        "                              verbose=1)"
      ],
      "metadata": {
        "id": "0JAJzESQo_Um"
      },
      "execution_count": 3,
      "outputs": []
    },
    {
      "cell_type": "code",
      "source": [
        "model.fit(train_generator, epochs=10, validation_data=validation_generator)"
      ],
      "metadata": {
        "id": "fut8Nb_NpOGJ"
      },
      "execution_count": null,
      "outputs": []
    },
    {
      "cell_type": "code",
      "source": [
        "test_datagen = ImageDataGenerator(rescale=1./255)\n",
        "\n",
        "test_generator = test_datagen.flow_from_directory(\n",
        "    '/content/drive/MyDrive/EMTECH 2 FINAL REQUIREMENT DATASET/validation',\n",
        "    target_size=(64, 64),\n",
        "    batch_size=32,\n",
        "    class_mode='binary'\n",
        ")"
      ],
      "metadata": {
        "id": "t8dK3_MbbKRj"
      },
      "execution_count": null,
      "outputs": []
    },
    {
      "cell_type": "code",
      "source": [
        "test_loss, test_acc = model.evaluate(test_generator)\n",
        "print(f'Test Accuracy: {test_acc}')"
      ],
      "metadata": {
        "id": "7c7uQC9QpQKa"
      },
      "execution_count": null,
      "outputs": []
    },
    {
      "cell_type": "code",
      "source": [
        "from keras.preprocessing import image\n",
        "import numpy as np\n",
        "\n",
        "img_path = '/content/drive/MyDrive/EMTECH 2 FINAL REQUIREMENT DATASET/validation/happy/10023.jpg'\n",
        "img = image.load_img(img_path, target_size=(64, 64))\n",
        "img_array = image.img_to_array(img)\n",
        "img_array = np.expand_dims(img_array, axis=0)\n",
        "img_array /= 255.0\n",
        "\n",
        "prediction = model.predict(img_array)\n",
        "print(f\"Predicted Probability: {prediction[0]}\")\n",
        "print(f\"Predicted Class: {round(prediction[0][0])}\")\n"
      ],
      "metadata": {
        "id": "Q2c7NZFzfwiB"
      },
      "execution_count": null,
      "outputs": []
    },
    {
      "cell_type": "code",
      "source": [
        "from PIL import Image"
      ],
      "metadata": {
        "id": "gcKL5_JhpZ2h"
      },
      "execution_count": null,
      "outputs": []
    },
    {
      "cell_type": "code",
      "source": [
        "img_path = '/content/drive/MyDrive/EMTECH 2 FINAL REQUIREMENT DATASET/validation/happy/10023.jpg'\n",
        "img = image.load_img(img_path, target_size=(64, 64))\n",
        "img_array = image.img_to_array(img)\n",
        "img_array = np.expand_dims(img_array, axis=0)\n",
        "img_array /= 255.0\n",
        "prediction = model.predict(img_array)\n",
        "\n",
        "class_names = ['happy', 'sad']\n",
        "\n",
        "predicted_class_index = np.argmax(prediction[0])\n",
        "predicted_class = class_names[predicted_class_index]\n",
        "probability = np.max(prediction)\n",
        "\n",
        "print(f'The predicted class is: {predicted_class}')\n",
        "print(f'The probability is: {probability}')\n",
        "\n",
        "img = Image.open(img_path)\n",
        "plt.imshow(img)\n",
        "plt.show()"
      ],
      "metadata": {
        "id": "u5_oG930ljyp"
      },
      "execution_count": null,
      "outputs": []
    },
    {
      "cell_type": "code",
      "source": [
        "from keras.preprocessing import image\n",
        "import numpy as np\n",
        "\n",
        "img_path = '/content/drive/MyDrive/EMTECH 2 FINAL REQUIREMENT DATASET/happy/-cheerful-african-american-black-male-happy-expressive-smiley-face-197149245.jpg'  # Replace with the path to your image\n",
        "img = image.load_img(img_path, target_size=(64, 64))\n",
        "img_array = image.img_to_array(img)\n",
        "img_array = np.expand_dims(img_array, axis=0)\n",
        "img_array /= 255.0\n",
        "\n",
        "prediction = model.predict(img_array)\n",
        "\n",
        "if prediction[0] < 0.5:\n",
        "    print(\"Sad\")\n",
        "else:\n",
        "    print(\"Happy\")\n"
      ],
      "metadata": {
        "id": "zS6H3F18v-SW"
      },
      "execution_count": null,
      "outputs": []
    },
    {
      "cell_type": "code",
      "source": [
        "from keras.preprocessing import image\n",
        "import numpy as np\n",
        "\n",
        "\n",
        "img_path = '/content/drive/MyDrive/EMTECH 2 FINAL REQUIREMENT DATASET/sad/096b101cd34c08b79bb0e6aec2b3afb5.jpg'  # Replace with the path to your image\n",
        "img = image.load_img(img_path, target_size=(64, 64))\n",
        "img_array = image.img_to_array(img)\n",
        "img_array = np.expand_dims(img_array, axis=0)\n",
        "img_array /= 255.0\n",
        "\n",
        "prediction = model.predict(img_array)\n",
        "\n",
        "if prediction[0] < 0.5:\n",
        "    print(\"Sad\")\n",
        "else:\n",
        "    print(\"Happy\")"
      ],
      "metadata": {
        "id": "94d2hIiSwIGl"
      },
      "execution_count": null,
      "outputs": []
    },
    {
      "cell_type": "code",
      "source": [
        "pip install matplotlib pillow"
      ],
      "metadata": {
        "id": "upSZS0L8xams"
      },
      "execution_count": null,
      "outputs": []
    },
    {
      "cell_type": "code",
      "source": [
        "from keras.preprocessing import image\n",
        "import numpy as np\n",
        "import matplotlib.pyplot as plt\n",
        "from PIL import Image\n",
        "\n",
        "img_path = '/content/drive/MyDrive/EMTECH 2 FINAL REQUIREMENT DATASET/sad/096b101cd34c08b79bb0e6aec2b3afb5.jpg'  # Replace with the path to your image\n",
        "img = image.load_img(img_path, target_size=(64, 64))\n",
        "img_array = image.img_to_array(img)\n",
        "img_array = np.expand_dims(img_array, axis=0)\n",
        "img_array /= 255.0\n",
        "\n",
        "prediction = model.predict(img_array)\n",
        "\n",
        "predicted_class = \"Happy\" if prediction[0] >= 0.5 else \"Sad\"\n",
        "confidence = prediction[0] if predicted_class == \"Happy\" else 1 - prediction[0]\n",
        "confidence_scalar = float(confidence)\n",
        "\n",
        "img = Image.open(img_path)\n",
        "plt.imshow(img)\n",
        "plt.axis('off')\n",
        "plt.title(f'Predicted Class: {predicted_class} (Confidence: {confidence_scalar:.2f})')\n",
        "plt.show()\n"
      ],
      "metadata": {
        "id": "Uu44tHArxmC_"
      },
      "execution_count": null,
      "outputs": []
    },
    {
      "cell_type": "code",
      "source": [
        "from keras.preprocessing import image\n",
        "import numpy as np\n",
        "import matplotlib.pyplot as plt\n",
        "from PIL import Image\n",
        "\n",
        "img_path = '/content/drive/MyDrive/EMTECH 2 FINAL REQUIREMENT DATASET/sad/394617911.jpg'\n",
        "img = image.load_img(img_path, target_size=(64, 64))\n",
        "img_array = image.img_to_array(img)\n",
        "img_array = np.expand_dims(img_array, axis=0)\n",
        "img_array /= 255.0\n",
        "\n",
        "prediction = model.predict(img_array)\n",
        "\n",
        "predicted_class = \"Happy\" if prediction[0] >= 0.5 else \"Sad\"\n",
        "confidence = prediction[0] if predicted_class == \"Happy\" else 1 - prediction[0]\n",
        "confidence_scalar = float(confidence)\n",
        "\n",
        "img = Image.open(img_path)\n",
        "plt.imshow(img)\n",
        "plt.axis('off')\n",
        "plt.title(f'Predicted Class: {predicted_class} (Confidence: {confidence_scalar:.2f})')\n",
        "plt.show()\n"
      ],
      "metadata": {
        "id": "D46dK-3Y0KSW"
      },
      "execution_count": null,
      "outputs": []
    },
    {
      "cell_type": "code",
      "source": [
        "from keras.preprocessing import image\n",
        "import numpy as np\n",
        "import matplotlib.pyplot as plt\n",
        "from PIL import Image\n",
        "\n",
        "img_path = '/content/drive/MyDrive/EMTECH 2 FINAL REQUIREMENT DATASET/happy/_happy_jumping_on_beach-40815.jpg'  # Replace with the path to your image\n",
        "img = image.load_img(img_path, target_size=(64, 64))\n",
        "img_array = image.img_to_array(img)\n",
        "img_array = np.expand_dims(img_array, axis=0)\n",
        "img_array /= 255.0\n",
        "\n",
        "prediction = model.predict(img_array)\n",
        "\n",
        "predicted_class = \"Happy\" if prediction[0] >= 0.5 else \"Sad\"\n",
        "confidence = prediction[0] if predicted_class == \"Happy\" else 1 - prediction[0]\n",
        "confidence_scalar = float(confidence)\n",
        "\n",
        "img = Image.open(img_path)\n",
        "plt.imshow(img)\n",
        "plt.axis('off')\n",
        "plt.title(f'Predicted Class: {predicted_class} (Confidence: {confidence_scalar:.2f})')\n",
        "plt.show()\n"
      ],
      "metadata": {
        "id": "0OnoDzPQ0QzD"
      },
      "execution_count": null,
      "outputs": []
    }
  ]
}